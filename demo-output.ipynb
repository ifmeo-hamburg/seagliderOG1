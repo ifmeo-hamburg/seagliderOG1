{
 "cells": [
  {
   "cell_type": "markdown",
   "id": "c6a29764-f39c-431c-8e77-fbc6bfe20f01",
   "metadata": {},
   "source": [
    "# seagliderOG1 demo\n",
    "\n",
    "The purpose of this notebook is to demonstrate the functionality of `seagliderOG1` to convert from Seaglider basestation files to OG1 format.\n",
    "\n",
    "- OG1 format is a newly agreed format (since June 2024) for glider data sets from various platforms (e.g., Seaglider, Slocum, Seaexplorer).  It lives on github here: (https://github.com/OceanGlidersCommunity/OG-format-user-manual).\n",
    "- OG1 manual: https://oceangliderscommunity.github.io/OG-format-user-manual/OG_Format.html\n",
    "\n",
    "The test case is to convert sg015 data from the Labrador Sea in September 2004.\n",
    "\n",
    "The demo is organised to show\n",
    "\n",
    "- Conversion of a single dive cycle (single `p*.nc` file)\n",
    "\n",
    "- Conversion for a folder of local dive-cycle files (full mission of `p*.nc` files)\n",
    "\n",
    "- Download from remote server + conversion (directory with full mission of `p*.nc` files)\n",
    "\n",
    "Options are provided to only load e.g. 10 files, but note that OG1 format expects a full mission.\n"
   ]
  },
  {
   "cell_type": "code",
   "execution_count": 1,
   "id": "6a1920f3",
   "metadata": {
    "execution": {
     "iopub.execute_input": "2025-01-27T14:54:52.811350Z",
     "iopub.status.busy": "2025-01-27T14:54:52.810970Z",
     "iopub.status.idle": "2025-01-27T14:54:56.340424Z",
     "shell.execute_reply": "2025-01-27T14:54:56.339911Z"
    }
   },
   "outputs": [
    {
     "name": "stdout",
     "output_type": "stream",
     "text": [
      "/home/runner/work/seagliderOG1/seagliderOG1\n",
      "['/home/runner/micromamba/envs/TEST/lib/python312.zip', '/home/runner/micromamba/envs/TEST/lib/python3.12', '/home/runner/micromamba/envs/TEST/lib/python3.12/lib-dynload', '', '/home/runner/micromamba/envs/TEST/lib/python3.12/site-packages', '/home/runner/work/seagliderOG1/seagliderOG1', '/home/runner/work/seagliderOG1/seagliderOG1/seagliderOG1']\n"
     ]
    },
    {
     "name": "stderr",
     "output_type": "stream",
     "text": [
      "/home/runner/work/seagliderOG1/seagliderOG1/seagliderOG1/tools.py:472: SyntaxWarning: invalid escape sequence '\\d'\n",
      "  fill_val = 2 ** (int(re.findall(\"\\d+\", str(new_dtype))[0]) - 1) - 1\n"
     ]
    }
   ],
   "source": [
    "import pathlib\n",
    "import sys\n",
    "\n",
    "script_dir = pathlib.Path().parent.absolute()\n",
    "parent_dir = script_dir.parents[0]\n",
    "sys.path.append(str(parent_dir))\n",
    "sys.path.append(str(parent_dir) + '/seagliderOG1')\n",
    "print(parent_dir)\n",
    "print(sys.path)\n",
    "\n",
    "import xarray as xr\n",
    "import os\n",
    "import pooch\n",
    "from seagliderOG1 import readers, writers, plotters, tools\n",
    "from seagliderOG1 import convertOG1, vocabularies\n"
   ]
  },
  {
   "cell_type": "code",
   "execution_count": null,
   "id": "e6095e63",
   "metadata": {},
   "outputs": [],
   "source": []
  },
  {
   "cell_type": "code",
   "execution_count": 2,
   "id": "1e070d18",
   "metadata": {
    "execution": {
     "iopub.execute_input": "2025-01-27T14:54:56.342442Z",
     "iopub.status.busy": "2025-01-27T14:54:56.341915Z",
     "iopub.status.idle": "2025-01-27T14:54:56.344557Z",
     "shell.execute_reply": "2025-01-27T14:54:56.344163Z"
    }
   },
   "outputs": [],
   "source": [
    "# Specify the path for writing datafiles\n",
    "data_path = os.path.join(parent_dir, 'data')"
   ]
  },
  {
   "cell_type": "markdown",
   "id": "803e373a",
   "metadata": {},
   "source": [
    "## Reading basestation files\n",
    "\n",
    "This has three ways to load a glider dataset.\n",
    "\n",
    "Load an example dataset using `seagliderOG1.fetchers.load_sample_dataset`\n",
    "\n",
    "Alternatively, use your own with e.g. `ds = xr.open_dataset('/path/to/yourfile.nc')`"
   ]
  },
  {
   "cell_type": "markdown",
   "id": "02c414b4",
   "metadata": {},
   "source": [
    "### Load single sample dataset"
   ]
  },
  {
   "cell_type": "code",
   "execution_count": 3,
   "id": "05ca56cf",
   "metadata": {
    "execution": {
     "iopub.execute_input": "2025-01-27T14:54:56.346247Z",
     "iopub.status.busy": "2025-01-27T14:54:56.345931Z",
     "iopub.status.idle": "2025-01-27T14:54:56.957287Z",
     "shell.execute_reply": "2025-01-27T14:54:56.956759Z"
    }
   },
   "outputs": [
    {
     "name": "stderr",
     "output_type": "stream",
     "text": [
      "Downloading file 'p0040034_20031007.nc' from 'https://www.ncei.noaa.gov/data/oceans/glider/seaglider/uw/015/20040924/p0040034_20031007.nc' to '/home/runner/.cache/seagliderOG1'.\n"
     ]
    },
    {
     "ename": "HTTPError",
     "evalue": "404 Client Error: Not Found for url: https://www.ncei.noaa.gov/data/oceans/glider/seaglider/uw/015/20040924/p0040034_20031007.nc",
     "output_type": "error",
     "traceback": [
      "\u001b[0;31m---------------------------------------------------------------------------\u001b[0m",
      "\u001b[0;31mHTTPError\u001b[0m                                 Traceback (most recent call last)",
      "Cell \u001b[0;32mIn[3], line 1\u001b[0m\n\u001b[0;32m----> 1\u001b[0m ds \u001b[38;5;241m=\u001b[39m \u001b[43mreaders\u001b[49m\u001b[38;5;241;43m.\u001b[39;49m\u001b[43mload_sample_dataset\u001b[49m\u001b[43m(\u001b[49m\u001b[43m)\u001b[49m\n\u001b[1;32m      2\u001b[0m ds\n",
      "File \u001b[0;32m~/work/seagliderOG1/seagliderOG1/seagliderOG1/readers.py:37\u001b[0m, in \u001b[0;36mload_sample_dataset\u001b[0;34m(dataset_name)\u001b[0m\n\u001b[1;32m     35\u001b[0m \u001b[38;5;28;01mdef\u001b[39;00m\u001b[38;5;250m \u001b[39m\u001b[38;5;21mload_sample_dataset\u001b[39m(dataset_name\u001b[38;5;241m=\u001b[39m\u001b[38;5;124m\"\u001b[39m\u001b[38;5;124mp0040034_20031007.nc\u001b[39m\u001b[38;5;124m\"\u001b[39m):\n\u001b[1;32m     36\u001b[0m     \u001b[38;5;28;01mif\u001b[39;00m dataset_name \u001b[38;5;129;01min\u001b[39;00m data_source_og\u001b[38;5;241m.\u001b[39mregistry\u001b[38;5;241m.\u001b[39mkeys():\n\u001b[0;32m---> 37\u001b[0m         file_path \u001b[38;5;241m=\u001b[39m \u001b[43mdata_source_og\u001b[49m\u001b[38;5;241;43m.\u001b[39;49m\u001b[43mfetch\u001b[49m\u001b[43m(\u001b[49m\u001b[43mdataset_name\u001b[49m\u001b[43m)\u001b[49m\n\u001b[1;32m     38\u001b[0m         \u001b[38;5;28;01mreturn\u001b[39;00m xr\u001b[38;5;241m.\u001b[39mopen_dataset(file_path)\n\u001b[1;32m     39\u001b[0m     \u001b[38;5;28;01melse\u001b[39;00m:\n",
      "File \u001b[0;32m~/micromamba/envs/TEST/lib/python3.12/site-packages/pooch/core.py:589\u001b[0m, in \u001b[0;36mPooch.fetch\u001b[0;34m(self, fname, processor, downloader, progressbar)\u001b[0m\n\u001b[1;32m    586\u001b[0m     \u001b[38;5;28;01mif\u001b[39;00m downloader \u001b[38;5;129;01mis\u001b[39;00m \u001b[38;5;28;01mNone\u001b[39;00m:\n\u001b[1;32m    587\u001b[0m         downloader \u001b[38;5;241m=\u001b[39m choose_downloader(url, progressbar\u001b[38;5;241m=\u001b[39mprogressbar)\n\u001b[0;32m--> 589\u001b[0m     \u001b[43mstream_download\u001b[49m\u001b[43m(\u001b[49m\n\u001b[1;32m    590\u001b[0m \u001b[43m        \u001b[49m\u001b[43murl\u001b[49m\u001b[43m,\u001b[49m\n\u001b[1;32m    591\u001b[0m \u001b[43m        \u001b[49m\u001b[43mfull_path\u001b[49m\u001b[43m,\u001b[49m\n\u001b[1;32m    592\u001b[0m \u001b[43m        \u001b[49m\u001b[43mknown_hash\u001b[49m\u001b[43m,\u001b[49m\n\u001b[1;32m    593\u001b[0m \u001b[43m        \u001b[49m\u001b[43mdownloader\u001b[49m\u001b[43m,\u001b[49m\n\u001b[1;32m    594\u001b[0m \u001b[43m        \u001b[49m\u001b[43mpooch\u001b[49m\u001b[38;5;241;43m=\u001b[39;49m\u001b[38;5;28;43mself\u001b[39;49m\u001b[43m,\u001b[49m\n\u001b[1;32m    595\u001b[0m \u001b[43m        \u001b[49m\u001b[43mretry_if_failed\u001b[49m\u001b[38;5;241;43m=\u001b[39;49m\u001b[38;5;28;43mself\u001b[39;49m\u001b[38;5;241;43m.\u001b[39;49m\u001b[43mretry_if_failed\u001b[49m\u001b[43m,\u001b[49m\n\u001b[1;32m    596\u001b[0m \u001b[43m    \u001b[49m\u001b[43m)\u001b[49m\n\u001b[1;32m    598\u001b[0m \u001b[38;5;28;01mif\u001b[39;00m processor \u001b[38;5;129;01mis\u001b[39;00m \u001b[38;5;129;01mnot\u001b[39;00m \u001b[38;5;28;01mNone\u001b[39;00m:\n\u001b[1;32m    599\u001b[0m     \u001b[38;5;28;01mreturn\u001b[39;00m processor(\u001b[38;5;28mstr\u001b[39m(full_path), action, \u001b[38;5;28mself\u001b[39m)\n",
      "File \u001b[0;32m~/micromamba/envs/TEST/lib/python3.12/site-packages/pooch/core.py:807\u001b[0m, in \u001b[0;36mstream_download\u001b[0;34m(url, fname, known_hash, downloader, pooch, retry_if_failed)\u001b[0m\n\u001b[1;32m    803\u001b[0m \u001b[38;5;28;01mtry\u001b[39;00m:\n\u001b[1;32m    804\u001b[0m     \u001b[38;5;66;03m# Stream the file to a temporary so that we can safely check its\u001b[39;00m\n\u001b[1;32m    805\u001b[0m     \u001b[38;5;66;03m# hash before overwriting the original.\u001b[39;00m\n\u001b[1;32m    806\u001b[0m     \u001b[38;5;28;01mwith\u001b[39;00m temporary_file(path\u001b[38;5;241m=\u001b[39m\u001b[38;5;28mstr\u001b[39m(fname\u001b[38;5;241m.\u001b[39mparent)) \u001b[38;5;28;01mas\u001b[39;00m tmp:\n\u001b[0;32m--> 807\u001b[0m         \u001b[43mdownloader\u001b[49m\u001b[43m(\u001b[49m\u001b[43murl\u001b[49m\u001b[43m,\u001b[49m\u001b[43m \u001b[49m\u001b[43mtmp\u001b[49m\u001b[43m,\u001b[49m\u001b[43m \u001b[49m\u001b[43mpooch\u001b[49m\u001b[43m)\u001b[49m\n\u001b[1;32m    808\u001b[0m         hash_matches(tmp, known_hash, strict\u001b[38;5;241m=\u001b[39m\u001b[38;5;28;01mTrue\u001b[39;00m, source\u001b[38;5;241m=\u001b[39m\u001b[38;5;28mstr\u001b[39m(fname\u001b[38;5;241m.\u001b[39mname))\n\u001b[1;32m    809\u001b[0m         shutil\u001b[38;5;241m.\u001b[39mmove(tmp, \u001b[38;5;28mstr\u001b[39m(fname))\n",
      "File \u001b[0;32m~/micromamba/envs/TEST/lib/python3.12/site-packages/pooch/downloaders.py:221\u001b[0m, in \u001b[0;36mHTTPDownloader.__call__\u001b[0;34m(self, url, output_file, pooch, check_only)\u001b[0m\n\u001b[1;32m    219\u001b[0m \u001b[38;5;28;01mtry\u001b[39;00m:\n\u001b[1;32m    220\u001b[0m     response \u001b[38;5;241m=\u001b[39m requests\u001b[38;5;241m.\u001b[39mget(url, timeout\u001b[38;5;241m=\u001b[39mtimeout, \u001b[38;5;241m*\u001b[39m\u001b[38;5;241m*\u001b[39mkwargs)\n\u001b[0;32m--> 221\u001b[0m     \u001b[43mresponse\u001b[49m\u001b[38;5;241;43m.\u001b[39;49m\u001b[43mraise_for_status\u001b[49m\u001b[43m(\u001b[49m\u001b[43m)\u001b[49m\n\u001b[1;32m    222\u001b[0m     content \u001b[38;5;241m=\u001b[39m response\u001b[38;5;241m.\u001b[39miter_content(chunk_size\u001b[38;5;241m=\u001b[39m\u001b[38;5;28mself\u001b[39m\u001b[38;5;241m.\u001b[39mchunk_size)\n\u001b[1;32m    223\u001b[0m     total \u001b[38;5;241m=\u001b[39m \u001b[38;5;28mint\u001b[39m(response\u001b[38;5;241m.\u001b[39mheaders\u001b[38;5;241m.\u001b[39mget(\u001b[38;5;124m\"\u001b[39m\u001b[38;5;124mcontent-length\u001b[39m\u001b[38;5;124m\"\u001b[39m, \u001b[38;5;241m0\u001b[39m))\n",
      "File \u001b[0;32m~/micromamba/envs/TEST/lib/python3.12/site-packages/requests/models.py:1024\u001b[0m, in \u001b[0;36mResponse.raise_for_status\u001b[0;34m(self)\u001b[0m\n\u001b[1;32m   1019\u001b[0m     http_error_msg \u001b[38;5;241m=\u001b[39m (\n\u001b[1;32m   1020\u001b[0m         \u001b[38;5;124mf\u001b[39m\u001b[38;5;124m\"\u001b[39m\u001b[38;5;132;01m{\u001b[39;00m\u001b[38;5;28mself\u001b[39m\u001b[38;5;241m.\u001b[39mstatus_code\u001b[38;5;132;01m}\u001b[39;00m\u001b[38;5;124m Server Error: \u001b[39m\u001b[38;5;132;01m{\u001b[39;00mreason\u001b[38;5;132;01m}\u001b[39;00m\u001b[38;5;124m for url: \u001b[39m\u001b[38;5;132;01m{\u001b[39;00m\u001b[38;5;28mself\u001b[39m\u001b[38;5;241m.\u001b[39murl\u001b[38;5;132;01m}\u001b[39;00m\u001b[38;5;124m\"\u001b[39m\n\u001b[1;32m   1021\u001b[0m     )\n\u001b[1;32m   1023\u001b[0m \u001b[38;5;28;01mif\u001b[39;00m http_error_msg:\n\u001b[0;32m-> 1024\u001b[0m     \u001b[38;5;28;01mraise\u001b[39;00m HTTPError(http_error_msg, response\u001b[38;5;241m=\u001b[39m\u001b[38;5;28mself\u001b[39m)\n",
      "\u001b[0;31mHTTPError\u001b[0m: 404 Client Error: Not Found for url: https://www.ncei.noaa.gov/data/oceans/glider/seaglider/uw/015/20040924/p0040034_20031007.nc"
     ]
    }
   ],
   "source": [
    "ds = readers.load_sample_dataset()\n",
    "ds"
   ]
  },
  {
   "cell_type": "markdown",
   "id": "5e1416e5",
   "metadata": {},
   "source": [
    "### Load datasets from a local directory"
   ]
  },
  {
   "cell_type": "code",
   "execution_count": 4,
   "id": "83bba8ac",
   "metadata": {
    "execution": {
     "iopub.execute_input": "2025-01-27T14:54:56.959136Z",
     "iopub.status.busy": "2025-01-27T14:54:56.958823Z",
     "iopub.status.idle": "2025-01-27T14:54:56.975148Z",
     "shell.execute_reply": "2025-01-27T14:54:56.974685Z"
    }
   },
   "outputs": [
    {
     "ename": "ValueError",
     "evalue": "Source must be a valid URL or directory path.",
     "output_type": "error",
     "traceback": [
      "\u001b[0;31m---------------------------------------------------------------------------\u001b[0m",
      "\u001b[0;31mValueError\u001b[0m                                Traceback (most recent call last)",
      "Cell \u001b[0;32mIn[4], line 6\u001b[0m\n\u001b[1;32m      2\u001b[0m input_dir \u001b[38;5;241m=\u001b[39m \u001b[38;5;124m\"\u001b[39m\u001b[38;5;124m/Users/eddifying/Dropbox/data/sg015-ncei-download\u001b[39m\u001b[38;5;124m\"\u001b[39m\n\u001b[1;32m      4\u001b[0m \u001b[38;5;66;03m# Load and concatenate all datasets in the input directory\u001b[39;00m\n\u001b[1;32m      5\u001b[0m \u001b[38;5;66;03m# Optionally, specify the range of profiles to load (start_profile, end_profile)\u001b[39;00m\n\u001b[0;32m----> 6\u001b[0m list_datasets \u001b[38;5;241m=\u001b[39m \u001b[43mreaders\u001b[49m\u001b[38;5;241;43m.\u001b[39;49m\u001b[43mread_basestation\u001b[49m\u001b[43m(\u001b[49m\u001b[43minput_dir\u001b[49m\u001b[43m,\u001b[49m\u001b[43m \u001b[49m\u001b[43mstart_profile\u001b[49m\u001b[38;5;241;43m=\u001b[39;49m\u001b[38;5;241;43m500\u001b[39;49m\u001b[43m,\u001b[49m\u001b[43m \u001b[49m\u001b[43mend_profile\u001b[49m\u001b[38;5;241;43m=\u001b[39;49m\u001b[38;5;241;43m503\u001b[39;49m\u001b[43m)\u001b[49m\n\u001b[1;32m      8\u001b[0m \u001b[38;5;66;03m# Where list_datasets is a list of xarray datasets.  A single dataset can be accessed as\u001b[39;00m\n\u001b[1;32m      9\u001b[0m ds \u001b[38;5;241m=\u001b[39m list_datasets[\u001b[38;5;241m0\u001b[39m]\n",
      "File \u001b[0;32m~/work/seagliderOG1/seagliderOG1/seagliderOG1/readers.py:101\u001b[0m, in \u001b[0;36mread_basestation\u001b[0;34m(source, start_profile, end_profile)\u001b[0m\n\u001b[1;32m     99\u001b[0m     file_list \u001b[38;5;241m=\u001b[39m os\u001b[38;5;241m.\u001b[39mlistdir(source)\n\u001b[1;32m    100\u001b[0m \u001b[38;5;28;01melse\u001b[39;00m:\n\u001b[0;32m--> 101\u001b[0m     \u001b[38;5;28;01mraise\u001b[39;00m \u001b[38;5;167;01mValueError\u001b[39;00m(\u001b[38;5;124m\"\u001b[39m\u001b[38;5;124mSource must be a valid URL or directory path.\u001b[39m\u001b[38;5;124m\"\u001b[39m)\n\u001b[1;32m    103\u001b[0m filtered_files \u001b[38;5;241m=\u001b[39m filter_files_by_profile(file_list, start_profile, end_profile)\n\u001b[1;32m    105\u001b[0m datasets \u001b[38;5;241m=\u001b[39m []\n",
      "\u001b[0;31mValueError\u001b[0m: Source must be a valid URL or directory path."
     ]
    }
   ],
   "source": [
    "# Specify the input directory on your local machine\n",
    "input_dir = \"/Users/eddifying/Dropbox/data/sg015-ncei-download\"\n",
    "\n",
    "# Load and concatenate all datasets in the input directory\n",
    "# Optionally, specify the range of profiles to load (start_profile, end_profile)\n",
    "list_datasets = readers.read_basestation(input_dir, start_profile=500, end_profile=503)\n",
    "\n",
    "# Where list_datasets is a list of xarray datasets.  A single dataset can be accessed as\n",
    "ds = list_datasets[0]"
   ]
  },
  {
   "cell_type": "code",
   "execution_count": 5,
   "id": "926863fd",
   "metadata": {
    "execution": {
     "iopub.execute_input": "2025-01-27T14:54:56.976669Z",
     "iopub.status.busy": "2025-01-27T14:54:56.976502Z",
     "iopub.status.idle": "2025-01-27T14:54:56.985769Z",
     "shell.execute_reply": "2025-01-27T14:54:56.985367Z"
    }
   },
   "outputs": [
    {
     "ename": "NameError",
     "evalue": "name 'ds' is not defined",
     "output_type": "error",
     "traceback": [
      "\u001b[0;31m---------------------------------------------------------------------------\u001b[0m",
      "\u001b[0;31mNameError\u001b[0m                                 Traceback (most recent call last)",
      "Cell \u001b[0;32mIn[5], line 1\u001b[0m\n\u001b[0;32m----> 1\u001b[0m \u001b[43mds\u001b[49m\n",
      "\u001b[0;31mNameError\u001b[0m: name 'ds' is not defined"
     ]
    }
   ],
   "source": [
    "ds"
   ]
  },
  {
   "cell_type": "markdown",
   "id": "f4040443",
   "metadata": {},
   "source": [
    "### Load datasets from a remote directory (URL)"
   ]
  },
  {
   "cell_type": "code",
   "execution_count": 6,
   "id": "2913eb42",
   "metadata": {
    "execution": {
     "iopub.execute_input": "2025-01-27T14:54:56.987298Z",
     "iopub.status.busy": "2025-01-27T14:54:56.987133Z",
     "iopub.status.idle": "2025-01-27T14:55:00.362180Z",
     "shell.execute_reply": "2025-01-27T14:55:00.361654Z"
    }
   },
   "outputs": [
    {
     "name": "stderr",
     "output_type": "stream",
     "text": [
      "Downloading file 'p0150500_20050213.nc' from 'https://www.ncei.noaa.gov/data/oceans/glider/seaglider/uw/015/20040924/p0150500_20050213.nc' to '/home/runner/.cache/seagliderOG1'.\n"
     ]
    },
    {
     "name": "stderr",
     "output_type": "stream",
     "text": [
      "Downloading file 'p0150501_20050213.nc' from 'https://www.ncei.noaa.gov/data/oceans/glider/seaglider/uw/015/20040924/p0150501_20050213.nc' to '/home/runner/.cache/seagliderOG1'.\n"
     ]
    },
    {
     "name": "stderr",
     "output_type": "stream",
     "text": [
      "Downloading file 'p0150502_20050214.nc' from 'https://www.ncei.noaa.gov/data/oceans/glider/seaglider/uw/015/20040924/p0150502_20050214.nc' to '/home/runner/.cache/seagliderOG1'.\n"
     ]
    },
    {
     "name": "stderr",
     "output_type": "stream",
     "text": [
      "Downloading file 'p0150503_20050214.nc' from 'https://www.ncei.noaa.gov/data/oceans/glider/seaglider/uw/015/20040924/p0150503_20050214.nc' to '/home/runner/.cache/seagliderOG1'.\n"
     ]
    }
   ],
   "source": [
    "# Specify the server where data are located\n",
    "server = \"https://www.ncei.noaa.gov/data/oceans/glider/seaglider/uw/015/20040924/\"\n",
    "\n",
    "# Load and concatenate all datasets from the server, optionally specifying the range of profiles to load\n",
    "list_datasets = readers.read_basestation(server, start_profile=500, end_profile=503)"
   ]
  },
  {
   "cell_type": "markdown",
   "id": "89c4ebb6",
   "metadata": {},
   "source": [
    "## Convert to OG1 format\n",
    "\n",
    "Process:\n",
    "\n",
    "1. For one basestation dataset, split the dataset by dimension (`split_ds`)\n",
    "3. Transform into OG1 format: dataset with dims `sg_data_point`\n",
    "    - Change the dimension to `N_MEASUREMENTS`\n",
    "    - Rename variables according to `vocabularies.standard_names` \n",
    "    - Assign variable attributes according to `vocabularies.vocab_attrs`.  (Note: This *could* go wrong since it makes assumptions about the input variables. May need additional handling.)\n",
    "4. Add missing mandatory variables: \n",
    "    - From `split_ds[(gps_info,)]`, add the `LATITUDE_GPS`, `LONGITUDE_GPS` and `TIME_GPS` (Note: presently `TIME_GPS` is stripped before saving, but `TIME` values contain `TIME_GPS`)\n",
    "    - Create `PROFILE_NUMBER` and `PHASE`\n",
    "    - Calculate `DEPTH_Z` which is positive up\n",
    "5. Update attributes for the file. \n",
    "    - Combines `creator` and `contributor` from original attributes into `contributor`\n",
    "    - Adds `contributing_institutions` based on `institution`\n",
    "    - Reformats time in `time_coverage_*` and `start_time`--> `start_date`\n",
    "    - Adds `date_modified`\n",
    "    - Renames `comments`-->`history`, `site`-->`summary`\n",
    "    - Adds `title`, `platform`, `platform_vocabulary`, `featureType`, `Conventions`, `rtqc_method*` according to OceanGliders format\n",
    "    - Retains `naming_authority`, `institution`, `project`, `geospatial_*` as OG attributes\n",
    "    - Retains extra attributes: `license`, `keywords`, `keywords_vocabulary`, `file_version`, `acknowledgement`, `date_created`, `disclaimer`\n",
    "\n",
    "Future behaviour to be added:\n",
    "\n",
    "6. Retain the variables starting with `sg_cal` and check whether they vary over the mission (shouldn't)\n",
    "6. Add sensors, using information in the `split_ds` with no dimensions\n",
    "    - Need (from sg_cal_constants: `sg_cal` plus `volmax`, `vbd_cnts_per_cc`, `therm_expan`, `t_*`, `mass`, `hd_*`, `ctcor`, `cpcor`, `c_*`, `abs_compress`, `a`, `Tcor`, `Soc`, `Pcor`, `Foffset`)\n",
    "    - Maybe also `reviewed`, `magnetic_variation` (which will change with position), `log_D_FLARE`, `flight_avg_speed_north` and `flight_avg_speed_east` also with `_gsm`, `depth_avg_curr_north` and `depth_avg_curr_east` also with `_gsm`, \n",
    "    `wlbb2f` - means sensor\n",
    "    `sg_cal_mission_title`\n",
    "    `sg_cal_id_str`\n",
    "    `calibcomm_oxygen`\n",
    "    `calibcomm`\n",
    "    `sbe41` means ??\n",
    "    `hdm_qc`\n",
    "    `glider`\n",
    "    \n",
    "### Convert a single (sample) dataset"
   ]
  },
  {
   "cell_type": "code",
   "execution_count": 7,
   "id": "dd041858-c498-4654-a7c8-1731beb839fc",
   "metadata": {
    "execution": {
     "iopub.execute_input": "2025-01-27T14:55:00.364096Z",
     "iopub.status.busy": "2025-01-27T14:55:00.363802Z",
     "iopub.status.idle": "2025-01-27T14:55:00.626821Z",
     "shell.execute_reply": "2025-01-27T14:55:00.626272Z"
    }
   },
   "outputs": [
    {
     "name": "stderr",
     "output_type": "stream",
     "text": [
      "Downloading file 'p0040034_20031007.nc' from 'https://www.ncei.noaa.gov/data/oceans/glider/seaglider/uw/015/20040924/p0040034_20031007.nc' to '/home/runner/.cache/seagliderOG1'.\n"
     ]
    },
    {
     "ename": "HTTPError",
     "evalue": "404 Client Error: Not Found for url: https://www.ncei.noaa.gov/data/oceans/glider/seaglider/uw/015/20040924/p0040034_20031007.nc",
     "output_type": "error",
     "traceback": [
      "\u001b[0;31m---------------------------------------------------------------------------\u001b[0m",
      "\u001b[0;31mHTTPError\u001b[0m                                 Traceback (most recent call last)",
      "Cell \u001b[0;32mIn[7], line 2\u001b[0m\n\u001b[1;32m      1\u001b[0m \u001b[38;5;66;03m# Loads one dataset (p0150500_20050213.nc)\u001b[39;00m\n\u001b[0;32m----> 2\u001b[0m ds \u001b[38;5;241m=\u001b[39m \u001b[43mreaders\u001b[49m\u001b[38;5;241;43m.\u001b[39;49m\u001b[43mload_sample_dataset\u001b[49m\u001b[43m(\u001b[49m\u001b[43m)\u001b[49m\n\u001b[1;32m      4\u001b[0m ds_OG1 \u001b[38;5;241m=\u001b[39m convertOG1\u001b[38;5;241m.\u001b[39mconvert_to_OG1(ds)\n\u001b[1;32m      6\u001b[0m \u001b[38;5;66;03m# Check the results - uncomment the following lines to either generate a plot or show the variables.\u001b[39;00m\n",
      "File \u001b[0;32m~/work/seagliderOG1/seagliderOG1/seagliderOG1/readers.py:37\u001b[0m, in \u001b[0;36mload_sample_dataset\u001b[0;34m(dataset_name)\u001b[0m\n\u001b[1;32m     35\u001b[0m \u001b[38;5;28;01mdef\u001b[39;00m\u001b[38;5;250m \u001b[39m\u001b[38;5;21mload_sample_dataset\u001b[39m(dataset_name\u001b[38;5;241m=\u001b[39m\u001b[38;5;124m\"\u001b[39m\u001b[38;5;124mp0040034_20031007.nc\u001b[39m\u001b[38;5;124m\"\u001b[39m):\n\u001b[1;32m     36\u001b[0m     \u001b[38;5;28;01mif\u001b[39;00m dataset_name \u001b[38;5;129;01min\u001b[39;00m data_source_og\u001b[38;5;241m.\u001b[39mregistry\u001b[38;5;241m.\u001b[39mkeys():\n\u001b[0;32m---> 37\u001b[0m         file_path \u001b[38;5;241m=\u001b[39m \u001b[43mdata_source_og\u001b[49m\u001b[38;5;241;43m.\u001b[39;49m\u001b[43mfetch\u001b[49m\u001b[43m(\u001b[49m\u001b[43mdataset_name\u001b[49m\u001b[43m)\u001b[49m\n\u001b[1;32m     38\u001b[0m         \u001b[38;5;28;01mreturn\u001b[39;00m xr\u001b[38;5;241m.\u001b[39mopen_dataset(file_path)\n\u001b[1;32m     39\u001b[0m     \u001b[38;5;28;01melse\u001b[39;00m:\n",
      "File \u001b[0;32m~/micromamba/envs/TEST/lib/python3.12/site-packages/pooch/core.py:589\u001b[0m, in \u001b[0;36mPooch.fetch\u001b[0;34m(self, fname, processor, downloader, progressbar)\u001b[0m\n\u001b[1;32m    586\u001b[0m     \u001b[38;5;28;01mif\u001b[39;00m downloader \u001b[38;5;129;01mis\u001b[39;00m \u001b[38;5;28;01mNone\u001b[39;00m:\n\u001b[1;32m    587\u001b[0m         downloader \u001b[38;5;241m=\u001b[39m choose_downloader(url, progressbar\u001b[38;5;241m=\u001b[39mprogressbar)\n\u001b[0;32m--> 589\u001b[0m     \u001b[43mstream_download\u001b[49m\u001b[43m(\u001b[49m\n\u001b[1;32m    590\u001b[0m \u001b[43m        \u001b[49m\u001b[43murl\u001b[49m\u001b[43m,\u001b[49m\n\u001b[1;32m    591\u001b[0m \u001b[43m        \u001b[49m\u001b[43mfull_path\u001b[49m\u001b[43m,\u001b[49m\n\u001b[1;32m    592\u001b[0m \u001b[43m        \u001b[49m\u001b[43mknown_hash\u001b[49m\u001b[43m,\u001b[49m\n\u001b[1;32m    593\u001b[0m \u001b[43m        \u001b[49m\u001b[43mdownloader\u001b[49m\u001b[43m,\u001b[49m\n\u001b[1;32m    594\u001b[0m \u001b[43m        \u001b[49m\u001b[43mpooch\u001b[49m\u001b[38;5;241;43m=\u001b[39;49m\u001b[38;5;28;43mself\u001b[39;49m\u001b[43m,\u001b[49m\n\u001b[1;32m    595\u001b[0m \u001b[43m        \u001b[49m\u001b[43mretry_if_failed\u001b[49m\u001b[38;5;241;43m=\u001b[39;49m\u001b[38;5;28;43mself\u001b[39;49m\u001b[38;5;241;43m.\u001b[39;49m\u001b[43mretry_if_failed\u001b[49m\u001b[43m,\u001b[49m\n\u001b[1;32m    596\u001b[0m \u001b[43m    \u001b[49m\u001b[43m)\u001b[49m\n\u001b[1;32m    598\u001b[0m \u001b[38;5;28;01mif\u001b[39;00m processor \u001b[38;5;129;01mis\u001b[39;00m \u001b[38;5;129;01mnot\u001b[39;00m \u001b[38;5;28;01mNone\u001b[39;00m:\n\u001b[1;32m    599\u001b[0m     \u001b[38;5;28;01mreturn\u001b[39;00m processor(\u001b[38;5;28mstr\u001b[39m(full_path), action, \u001b[38;5;28mself\u001b[39m)\n",
      "File \u001b[0;32m~/micromamba/envs/TEST/lib/python3.12/site-packages/pooch/core.py:807\u001b[0m, in \u001b[0;36mstream_download\u001b[0;34m(url, fname, known_hash, downloader, pooch, retry_if_failed)\u001b[0m\n\u001b[1;32m    803\u001b[0m \u001b[38;5;28;01mtry\u001b[39;00m:\n\u001b[1;32m    804\u001b[0m     \u001b[38;5;66;03m# Stream the file to a temporary so that we can safely check its\u001b[39;00m\n\u001b[1;32m    805\u001b[0m     \u001b[38;5;66;03m# hash before overwriting the original.\u001b[39;00m\n\u001b[1;32m    806\u001b[0m     \u001b[38;5;28;01mwith\u001b[39;00m temporary_file(path\u001b[38;5;241m=\u001b[39m\u001b[38;5;28mstr\u001b[39m(fname\u001b[38;5;241m.\u001b[39mparent)) \u001b[38;5;28;01mas\u001b[39;00m tmp:\n\u001b[0;32m--> 807\u001b[0m         \u001b[43mdownloader\u001b[49m\u001b[43m(\u001b[49m\u001b[43murl\u001b[49m\u001b[43m,\u001b[49m\u001b[43m \u001b[49m\u001b[43mtmp\u001b[49m\u001b[43m,\u001b[49m\u001b[43m \u001b[49m\u001b[43mpooch\u001b[49m\u001b[43m)\u001b[49m\n\u001b[1;32m    808\u001b[0m         hash_matches(tmp, known_hash, strict\u001b[38;5;241m=\u001b[39m\u001b[38;5;28;01mTrue\u001b[39;00m, source\u001b[38;5;241m=\u001b[39m\u001b[38;5;28mstr\u001b[39m(fname\u001b[38;5;241m.\u001b[39mname))\n\u001b[1;32m    809\u001b[0m         shutil\u001b[38;5;241m.\u001b[39mmove(tmp, \u001b[38;5;28mstr\u001b[39m(fname))\n",
      "File \u001b[0;32m~/micromamba/envs/TEST/lib/python3.12/site-packages/pooch/downloaders.py:221\u001b[0m, in \u001b[0;36mHTTPDownloader.__call__\u001b[0;34m(self, url, output_file, pooch, check_only)\u001b[0m\n\u001b[1;32m    219\u001b[0m \u001b[38;5;28;01mtry\u001b[39;00m:\n\u001b[1;32m    220\u001b[0m     response \u001b[38;5;241m=\u001b[39m requests\u001b[38;5;241m.\u001b[39mget(url, timeout\u001b[38;5;241m=\u001b[39mtimeout, \u001b[38;5;241m*\u001b[39m\u001b[38;5;241m*\u001b[39mkwargs)\n\u001b[0;32m--> 221\u001b[0m     \u001b[43mresponse\u001b[49m\u001b[38;5;241;43m.\u001b[39;49m\u001b[43mraise_for_status\u001b[49m\u001b[43m(\u001b[49m\u001b[43m)\u001b[49m\n\u001b[1;32m    222\u001b[0m     content \u001b[38;5;241m=\u001b[39m response\u001b[38;5;241m.\u001b[39miter_content(chunk_size\u001b[38;5;241m=\u001b[39m\u001b[38;5;28mself\u001b[39m\u001b[38;5;241m.\u001b[39mchunk_size)\n\u001b[1;32m    223\u001b[0m     total \u001b[38;5;241m=\u001b[39m \u001b[38;5;28mint\u001b[39m(response\u001b[38;5;241m.\u001b[39mheaders\u001b[38;5;241m.\u001b[39mget(\u001b[38;5;124m\"\u001b[39m\u001b[38;5;124mcontent-length\u001b[39m\u001b[38;5;124m\"\u001b[39m, \u001b[38;5;241m0\u001b[39m))\n",
      "File \u001b[0;32m~/micromamba/envs/TEST/lib/python3.12/site-packages/requests/models.py:1024\u001b[0m, in \u001b[0;36mResponse.raise_for_status\u001b[0;34m(self)\u001b[0m\n\u001b[1;32m   1019\u001b[0m     http_error_msg \u001b[38;5;241m=\u001b[39m (\n\u001b[1;32m   1020\u001b[0m         \u001b[38;5;124mf\u001b[39m\u001b[38;5;124m\"\u001b[39m\u001b[38;5;132;01m{\u001b[39;00m\u001b[38;5;28mself\u001b[39m\u001b[38;5;241m.\u001b[39mstatus_code\u001b[38;5;132;01m}\u001b[39;00m\u001b[38;5;124m Server Error: \u001b[39m\u001b[38;5;132;01m{\u001b[39;00mreason\u001b[38;5;132;01m}\u001b[39;00m\u001b[38;5;124m for url: \u001b[39m\u001b[38;5;132;01m{\u001b[39;00m\u001b[38;5;28mself\u001b[39m\u001b[38;5;241m.\u001b[39murl\u001b[38;5;132;01m}\u001b[39;00m\u001b[38;5;124m\"\u001b[39m\n\u001b[1;32m   1021\u001b[0m     )\n\u001b[1;32m   1023\u001b[0m \u001b[38;5;28;01mif\u001b[39;00m http_error_msg:\n\u001b[0;32m-> 1024\u001b[0m     \u001b[38;5;28;01mraise\u001b[39;00m HTTPError(http_error_msg, response\u001b[38;5;241m=\u001b[39m\u001b[38;5;28mself\u001b[39m)\n",
      "\u001b[0;31mHTTPError\u001b[0m: 404 Client Error: Not Found for url: https://www.ncei.noaa.gov/data/oceans/glider/seaglider/uw/015/20040924/p0040034_20031007.nc"
     ]
    }
   ],
   "source": [
    "# Loads one dataset (p0150500_20050213.nc)\n",
    "ds = readers.load_sample_dataset()\n",
    "\n",
    "ds_OG1 = convertOG1.convert_to_OG1(ds)\n",
    "\n",
    "# Check the results - uncomment the following lines to either generate a plot or show the variables.\n",
    "plotters.plot_profile_depth(ds_OG1)"
   ]
  },
  {
   "cell_type": "code",
   "execution_count": 8,
   "id": "a0c0c0ba",
   "metadata": {
    "execution": {
     "iopub.execute_input": "2025-01-27T14:55:00.628585Z",
     "iopub.status.busy": "2025-01-27T14:55:00.628307Z",
     "iopub.status.idle": "2025-01-27T14:55:00.638210Z",
     "shell.execute_reply": "2025-01-27T14:55:00.637807Z"
    }
   },
   "outputs": [
    {
     "ename": "NameError",
     "evalue": "name 'ds_OG1' is not defined",
     "output_type": "error",
     "traceback": [
      "\u001b[0;31m---------------------------------------------------------------------------\u001b[0m",
      "\u001b[0;31mNameError\u001b[0m                                 Traceback (most recent call last)",
      "Cell \u001b[0;32mIn[8], line 3\u001b[0m\n\u001b[1;32m      1\u001b[0m \u001b[38;5;66;03m# Print to screen a table of the variables and variable attributes\u001b[39;00m\n\u001b[1;32m      2\u001b[0m \u001b[38;5;66;03m#plotters.show_attributes(ds_OG1)\u001b[39;00m\n\u001b[0;32m----> 3\u001b[0m \u001b[43mds_OG1\u001b[49m\n",
      "\u001b[0;31mNameError\u001b[0m: name 'ds_OG1' is not defined"
     ]
    }
   ],
   "source": [
    "# Print to screen a table of the variables and variable attributes\n",
    "#plotters.show_attributes(ds_OG1)\n",
    "ds_OG1"
   ]
  },
  {
   "cell_type": "markdown",
   "id": "dc0a27f3",
   "metadata": {},
   "source": [
    "### Convert mission from a local directory of basestation files\n",
    "\n",
    "- For local data in the directory `input_dir`\n",
    "- Creates a plot of ctd_depth against ctd_time.\n"
   ]
  },
  {
   "cell_type": "code",
   "execution_count": 9,
   "id": "9d202485",
   "metadata": {
    "execution": {
     "iopub.execute_input": "2025-01-27T14:55:00.639677Z",
     "iopub.status.busy": "2025-01-27T14:55:00.639519Z",
     "iopub.status.idle": "2025-01-27T14:55:00.654912Z",
     "shell.execute_reply": "2025-01-27T14:55:00.654490Z"
    }
   },
   "outputs": [
    {
     "ename": "ValueError",
     "evalue": "Source must be a valid URL or directory path.",
     "output_type": "error",
     "traceback": [
      "\u001b[0;31m---------------------------------------------------------------------------\u001b[0m",
      "\u001b[0;31mValueError\u001b[0m                                Traceback (most recent call last)",
      "Cell \u001b[0;32mIn[9], line 6\u001b[0m\n\u001b[1;32m      2\u001b[0m input_dir \u001b[38;5;241m=\u001b[39m \u001b[38;5;124m\"\u001b[39m\u001b[38;5;124m/Users/eddifying/Dropbox/data/sg015-ncei-download\u001b[39m\u001b[38;5;124m\"\u001b[39m\n\u001b[1;32m      4\u001b[0m \u001b[38;5;66;03m# Load and concatenate all datasets in the input directory\u001b[39;00m\n\u001b[1;32m      5\u001b[0m \u001b[38;5;66;03m# Optionally, specify the range of profiles to load (start_profile, end_profile)\u001b[39;00m\n\u001b[0;32m----> 6\u001b[0m list_datasets \u001b[38;5;241m=\u001b[39m \u001b[43mreaders\u001b[49m\u001b[38;5;241;43m.\u001b[39;49m\u001b[43mread_basestation\u001b[49m\u001b[43m(\u001b[49m\u001b[43minput_dir\u001b[49m\u001b[43m,\u001b[49m\u001b[43m \u001b[49m\u001b[43mstart_profile\u001b[49m\u001b[38;5;241;43m=\u001b[39;49m\u001b[38;5;241;43m500\u001b[39;49m\u001b[43m,\u001b[49m\u001b[43m \u001b[49m\u001b[43mend_profile\u001b[49m\u001b[38;5;241;43m=\u001b[39;49m\u001b[38;5;241;43m503\u001b[39;49m\u001b[43m)\u001b[49m\n\u001b[1;32m      8\u001b[0m \u001b[38;5;66;03m# Convert the list of datasets to OG1\u001b[39;00m\n\u001b[1;32m      9\u001b[0m ds_OG1 \u001b[38;5;241m=\u001b[39m convertOG1\u001b[38;5;241m.\u001b[39mconvert_to_OG1(list_datasets)\n",
      "File \u001b[0;32m~/work/seagliderOG1/seagliderOG1/seagliderOG1/readers.py:101\u001b[0m, in \u001b[0;36mread_basestation\u001b[0;34m(source, start_profile, end_profile)\u001b[0m\n\u001b[1;32m     99\u001b[0m     file_list \u001b[38;5;241m=\u001b[39m os\u001b[38;5;241m.\u001b[39mlistdir(source)\n\u001b[1;32m    100\u001b[0m \u001b[38;5;28;01melse\u001b[39;00m:\n\u001b[0;32m--> 101\u001b[0m     \u001b[38;5;28;01mraise\u001b[39;00m \u001b[38;5;167;01mValueError\u001b[39;00m(\u001b[38;5;124m\"\u001b[39m\u001b[38;5;124mSource must be a valid URL or directory path.\u001b[39m\u001b[38;5;124m\"\u001b[39m)\n\u001b[1;32m    103\u001b[0m filtered_files \u001b[38;5;241m=\u001b[39m filter_files_by_profile(file_list, start_profile, end_profile)\n\u001b[1;32m    105\u001b[0m datasets \u001b[38;5;241m=\u001b[39m []\n",
      "\u001b[0;31mValueError\u001b[0m: Source must be a valid URL or directory path."
     ]
    }
   ],
   "source": [
    "# Specify the input directory on your local machine\n",
    "input_dir = \"/Users/eddifying/Dropbox/data/sg015-ncei-download\"\n",
    "\n",
    "# Load and concatenate all datasets in the input directory\n",
    "# Optionally, specify the range of profiles to load (start_profile, end_profile)\n",
    "list_datasets = readers.read_basestation(input_dir, start_profile=500, end_profile=503)\n",
    "\n",
    "# Convert the list of datasets to OG1\n",
    "ds_OG1 = convertOG1.convert_to_OG1(list_datasets)\n",
    "\n",
    "# Generate a simple plot\n",
    "plotters.plot_profile_depth(ds_OG1)\n",
    "#plotters.show_contents(ds_all,'attrs')"
   ]
  },
  {
   "cell_type": "markdown",
   "id": "fa3f9e81",
   "metadata": {},
   "source": [
    "### Convert mission from the NCEI server (with p*nc files)\n",
    "\n",
    "- Data from the sg015 mission in the Labrador Sea (https://www.ncei.noaa.gov/access/metadata/landing-page/bin/iso?id=gov.noaa.nodc:0111844), dataset identifier gov.noaa.nodc:0111844.\n"
   ]
  },
  {
   "cell_type": "code",
   "execution_count": 10,
   "id": "4ac290a2",
   "metadata": {
    "execution": {
     "iopub.execute_input": "2025-01-27T14:55:00.656452Z",
     "iopub.status.busy": "2025-01-27T14:55:00.656293Z",
     "iopub.status.idle": "2025-01-27T14:55:02.718102Z",
     "shell.execute_reply": "2025-01-27T14:55:02.717597Z"
    }
   },
   "outputs": [
    {
     "name": "stderr",
     "output_type": "stream",
     "text": [
      "Variable 'vert_speed_gsm' not in OG1 vocabulary.\n"
     ]
    },
    {
     "name": "stderr",
     "output_type": "stream",
     "text": [
      "Variable 'time' not in OG1 vocabulary.\n"
     ]
    },
    {
     "name": "stderr",
     "output_type": "stream",
     "text": [
      "Variable 'speed_gsm' not in OG1 vocabulary.\n"
     ]
    },
    {
     "name": "stderr",
     "output_type": "stream",
     "text": [
      "Variable 'sound_velocity' not in OG1 vocabulary.\n"
     ]
    },
    {
     "name": "stderr",
     "output_type": "stream",
     "text": [
      "Variable 'north_displacement_gsm' not in OG1 vocabulary.\n"
     ]
    },
    {
     "name": "stderr",
     "output_type": "stream",
     "text": [
      "Variable 'longitude_gsm' not in OG1 vocabulary.\n"
     ]
    },
    {
     "name": "stderr",
     "output_type": "stream",
     "text": [
      "Variable 'latitude_gsm' not in OG1 vocabulary.\n"
     ]
    },
    {
     "name": "stderr",
     "output_type": "stream",
     "text": [
      "Variable 'horz_speed_gsm' not in OG1 vocabulary.\n"
     ]
    },
    {
     "name": "stderr",
     "output_type": "stream",
     "text": [
      "Variable 'glide_angle_gsm' not in OG1 vocabulary.\n"
     ]
    },
    {
     "name": "stderr",
     "output_type": "stream",
     "text": [
      "Variable 'eng_wlbb2f_VFtemp' not in OG1 vocabulary.\n"
     ]
    },
    {
     "name": "stderr",
     "output_type": "stream",
     "text": [
      "Variable 'eng_sbect_tempFreq' not in OG1 vocabulary.\n"
     ]
    },
    {
     "name": "stderr",
     "output_type": "stream",
     "text": [
      "Variable 'eng_sbect_condFreq' not in OG1 vocabulary.\n"
     ]
    },
    {
     "name": "stderr",
     "output_type": "stream",
     "text": [
      "Variable 'eng_elaps_t_0000' not in OG1 vocabulary.\n"
     ]
    },
    {
     "name": "stderr",
     "output_type": "stream",
     "text": [
      "Variable 'eng_elaps_t' not in OG1 vocabulary.\n"
     ]
    },
    {
     "name": "stderr",
     "output_type": "stream",
     "text": [
      "Variable 'eng_depth' not in OG1 vocabulary.\n"
     ]
    },
    {
     "name": "stderr",
     "output_type": "stream",
     "text": [
      "Variable 'east_displacement_gsm' not in OG1 vocabulary.\n"
     ]
    },
    {
     "name": "stderr",
     "output_type": "stream",
     "text": [
      "Variable 'depth' not in OG1 vocabulary.\n"
     ]
    },
    {
     "name": "stderr",
     "output_type": "stream",
     "text": [
      "Variable 'density' not in OG1 vocabulary.\n"
     ]
    },
    {
     "name": "stderr",
     "output_type": "stream",
     "text": [
      "Variable 'buoyancy' not in OG1 vocabulary.\n"
     ]
    },
    {
     "name": "stderr",
     "output_type": "stream",
     "text": [
      "/home/runner/work/seagliderOG1/seagliderOG1/seagliderOG1/tools.py:359: FutureWarning: The return type of `Dataset.dims` will be changed to return a set of dimension names in future, in order to be more consistent with `DataArray.dims`. To access a mapping from dimension names to lengths, please use `Dataset.sizes`.\n",
      "  return ds.assign(divenum=('N_MEASUREMENTS', [dive_number] * ds.dims['N_MEASUREMENTS']))\n",
      "/home/runner/work/seagliderOG1/seagliderOG1/seagliderOG1/tools.py:178: FutureWarning: The return type of `Dataset.dims` will be changed to return a set of dimension names in future, in order to be more consistent with `DataArray.dims`. To access a mapping from dimension names to lengths, please use `Dataset.sizes`.\n",
      "  ds['dive_num_cast'] = (['N_MEASUREMENTS'], np.full(ds.dims['N_MEASUREMENTS'], np.nan))\n",
      "/home/runner/work/seagliderOG1/seagliderOG1/seagliderOG1/tools.py:239: FutureWarning: The return type of `Dataset.dims` will be changed to return a set of dimension names in future, in order to be more consistent with `DataArray.dims`. To access a mapping from dimension names to lengths, please use `Dataset.sizes`.\n",
      "  ds['PHASE'] = (['N_MEASUREMENTS'], np.full(ds.dims['N_MEASUREMENTS'], np.nan))\n",
      "/home/runner/work/seagliderOG1/seagliderOG1/seagliderOG1/tools.py:241: FutureWarning: The return type of `Dataset.dims` will be changed to return a set of dimension names in future, in order to be more consistent with `DataArray.dims`. To access a mapping from dimension names to lengths, please use `Dataset.sizes`.\n",
      "  ds['PHASE_QC'] = (['N_MEASUREMENTS'], np.zeros(ds.dims['N_MEASUREMENTS'], dtype=int))\n",
      "/home/runner/work/seagliderOG1/seagliderOG1/seagliderOG1/tools.py:292: FutureWarning: The return type of `Dataset.dims` will be changed to return a set of dimension names in future, in order to be more consistent with `DataArray.dims`. To access a mapping from dimension names to lengths, please use `Dataset.sizes`.\n",
      "  ds['DEPTH_Z'] = (['N_MEASUREMENTS'], np.full(ds.dims['N_MEASUREMENTS'], np.nan))\n"
     ]
    },
    {
     "name": "stdout",
     "output_type": "stream",
     "text": [
      "No conversion information found for cm s-1 to degrees\n",
      "No conversion information found for micromoles/kg to percent\n",
      "wlbb2f\n",
      "Adding sensor: SENSOR_FLUOROMETERS\n",
      "sbe41\n",
      "sbe41\n",
      "SBE t12/c12 calibration 30DEC03\n",
      "30DEC03\n",
      "Unknown\n"
     ]
    },
    {
     "name": "stderr",
     "output_type": "stream",
     "text": [
      "Variable 'vert_speed_gsm' not in OG1 vocabulary.\n"
     ]
    },
    {
     "name": "stderr",
     "output_type": "stream",
     "text": [
      "Variable 'time' not in OG1 vocabulary.\n"
     ]
    },
    {
     "name": "stderr",
     "output_type": "stream",
     "text": [
      "Variable 'speed_gsm' not in OG1 vocabulary.\n"
     ]
    },
    {
     "name": "stderr",
     "output_type": "stream",
     "text": [
      "Variable 'sound_velocity' not in OG1 vocabulary.\n"
     ]
    },
    {
     "name": "stderr",
     "output_type": "stream",
     "text": [
      "Variable 'north_displacement_gsm' not in OG1 vocabulary.\n"
     ]
    },
    {
     "name": "stderr",
     "output_type": "stream",
     "text": [
      "Variable 'longitude_gsm' not in OG1 vocabulary.\n"
     ]
    },
    {
     "name": "stderr",
     "output_type": "stream",
     "text": [
      "Variable 'latitude_gsm' not in OG1 vocabulary.\n"
     ]
    },
    {
     "name": "stderr",
     "output_type": "stream",
     "text": [
      "Variable 'horz_speed_gsm' not in OG1 vocabulary.\n"
     ]
    },
    {
     "name": "stderr",
     "output_type": "stream",
     "text": [
      "Variable 'glide_angle_gsm' not in OG1 vocabulary.\n"
     ]
    },
    {
     "name": "stderr",
     "output_type": "stream",
     "text": [
      "Variable 'eng_wlbb2f_VFtemp' not in OG1 vocabulary.\n"
     ]
    },
    {
     "name": "stderr",
     "output_type": "stream",
     "text": [
      "Variable 'eng_sbect_tempFreq' not in OG1 vocabulary.\n"
     ]
    },
    {
     "name": "stderr",
     "output_type": "stream",
     "text": [
      "Variable 'eng_sbect_condFreq' not in OG1 vocabulary.\n"
     ]
    },
    {
     "name": "stderr",
     "output_type": "stream",
     "text": [
      "Variable 'eng_elaps_t_0000' not in OG1 vocabulary.\n"
     ]
    },
    {
     "name": "stderr",
     "output_type": "stream",
     "text": [
      "Variable 'eng_elaps_t' not in OG1 vocabulary.\n"
     ]
    },
    {
     "name": "stderr",
     "output_type": "stream",
     "text": [
      "Variable 'eng_depth' not in OG1 vocabulary.\n"
     ]
    },
    {
     "name": "stderr",
     "output_type": "stream",
     "text": [
      "Variable 'east_displacement_gsm' not in OG1 vocabulary.\n"
     ]
    },
    {
     "name": "stderr",
     "output_type": "stream",
     "text": [
      "Variable 'depth' not in OG1 vocabulary.\n"
     ]
    },
    {
     "name": "stderr",
     "output_type": "stream",
     "text": [
      "Variable 'density' not in OG1 vocabulary.\n"
     ]
    },
    {
     "name": "stderr",
     "output_type": "stream",
     "text": [
      "Variable 'buoyancy' not in OG1 vocabulary.\n"
     ]
    },
    {
     "name": "stderr",
     "output_type": "stream",
     "text": [
      "/home/runner/work/seagliderOG1/seagliderOG1/seagliderOG1/tools.py:359: FutureWarning: The return type of `Dataset.dims` will be changed to return a set of dimension names in future, in order to be more consistent with `DataArray.dims`. To access a mapping from dimension names to lengths, please use `Dataset.sizes`.\n",
      "  return ds.assign(divenum=('N_MEASUREMENTS', [dive_number] * ds.dims['N_MEASUREMENTS']))\n",
      "/home/runner/work/seagliderOG1/seagliderOG1/seagliderOG1/tools.py:178: FutureWarning: The return type of `Dataset.dims` will be changed to return a set of dimension names in future, in order to be more consistent with `DataArray.dims`. To access a mapping from dimension names to lengths, please use `Dataset.sizes`.\n",
      "  ds['dive_num_cast'] = (['N_MEASUREMENTS'], np.full(ds.dims['N_MEASUREMENTS'], np.nan))\n",
      "/home/runner/work/seagliderOG1/seagliderOG1/seagliderOG1/tools.py:239: FutureWarning: The return type of `Dataset.dims` will be changed to return a set of dimension names in future, in order to be more consistent with `DataArray.dims`. To access a mapping from dimension names to lengths, please use `Dataset.sizes`.\n",
      "  ds['PHASE'] = (['N_MEASUREMENTS'], np.full(ds.dims['N_MEASUREMENTS'], np.nan))\n",
      "/home/runner/work/seagliderOG1/seagliderOG1/seagliderOG1/tools.py:241: FutureWarning: The return type of `Dataset.dims` will be changed to return a set of dimension names in future, in order to be more consistent with `DataArray.dims`. To access a mapping from dimension names to lengths, please use `Dataset.sizes`.\n",
      "  ds['PHASE_QC'] = (['N_MEASUREMENTS'], np.zeros(ds.dims['N_MEASUREMENTS'], dtype=int))\n",
      "/home/runner/work/seagliderOG1/seagliderOG1/seagliderOG1/tools.py:292: FutureWarning: The return type of `Dataset.dims` will be changed to return a set of dimension names in future, in order to be more consistent with `DataArray.dims`. To access a mapping from dimension names to lengths, please use `Dataset.sizes`.\n",
      "  ds['DEPTH_Z'] = (['N_MEASUREMENTS'], np.full(ds.dims['N_MEASUREMENTS'], np.nan))\n"
     ]
    },
    {
     "name": "stdout",
     "output_type": "stream",
     "text": [
      "No conversion information found for cm s-1 to degrees\n",
      "No conversion information found for micromoles/kg to percent\n",
      "wlbb2f\n",
      "Adding sensor: SENSOR_FLUOROMETERS\n",
      "sbe41\n",
      "sbe41\n",
      "SBE t12/c12 calibration 30DEC03\n",
      "30DEC03\n",
      "Unknown\n"
     ]
    },
    {
     "name": "stderr",
     "output_type": "stream",
     "text": [
      "Variable 'vert_speed_gsm' not in OG1 vocabulary.\n"
     ]
    },
    {
     "name": "stderr",
     "output_type": "stream",
     "text": [
      "Variable 'time' not in OG1 vocabulary.\n"
     ]
    },
    {
     "name": "stderr",
     "output_type": "stream",
     "text": [
      "Variable 'speed_gsm' not in OG1 vocabulary.\n"
     ]
    },
    {
     "name": "stderr",
     "output_type": "stream",
     "text": [
      "Variable 'sound_velocity' not in OG1 vocabulary.\n"
     ]
    },
    {
     "name": "stderr",
     "output_type": "stream",
     "text": [
      "Variable 'north_displacement_gsm' not in OG1 vocabulary.\n"
     ]
    },
    {
     "name": "stderr",
     "output_type": "stream",
     "text": [
      "Variable 'longitude_gsm' not in OG1 vocabulary.\n"
     ]
    },
    {
     "name": "stderr",
     "output_type": "stream",
     "text": [
      "Variable 'latitude_gsm' not in OG1 vocabulary.\n"
     ]
    },
    {
     "name": "stderr",
     "output_type": "stream",
     "text": [
      "Variable 'horz_speed_gsm' not in OG1 vocabulary.\n"
     ]
    },
    {
     "name": "stderr",
     "output_type": "stream",
     "text": [
      "Variable 'glide_angle_gsm' not in OG1 vocabulary.\n"
     ]
    },
    {
     "name": "stderr",
     "output_type": "stream",
     "text": [
      "Variable 'eng_wlbb2f_VFtemp' not in OG1 vocabulary.\n"
     ]
    },
    {
     "name": "stderr",
     "output_type": "stream",
     "text": [
      "Variable 'eng_sbect_tempFreq' not in OG1 vocabulary.\n"
     ]
    },
    {
     "name": "stderr",
     "output_type": "stream",
     "text": [
      "Variable 'eng_sbect_condFreq' not in OG1 vocabulary.\n"
     ]
    },
    {
     "name": "stderr",
     "output_type": "stream",
     "text": [
      "Variable 'eng_elaps_t_0000' not in OG1 vocabulary.\n"
     ]
    },
    {
     "name": "stderr",
     "output_type": "stream",
     "text": [
      "Variable 'eng_elaps_t' not in OG1 vocabulary.\n"
     ]
    },
    {
     "name": "stderr",
     "output_type": "stream",
     "text": [
      "Variable 'eng_depth' not in OG1 vocabulary.\n"
     ]
    },
    {
     "name": "stderr",
     "output_type": "stream",
     "text": [
      "Variable 'east_displacement_gsm' not in OG1 vocabulary.\n"
     ]
    },
    {
     "name": "stderr",
     "output_type": "stream",
     "text": [
      "Variable 'depth' not in OG1 vocabulary.\n"
     ]
    },
    {
     "name": "stderr",
     "output_type": "stream",
     "text": [
      "Variable 'density' not in OG1 vocabulary.\n"
     ]
    },
    {
     "name": "stderr",
     "output_type": "stream",
     "text": [
      "Variable 'buoyancy' not in OG1 vocabulary.\n"
     ]
    },
    {
     "name": "stderr",
     "output_type": "stream",
     "text": [
      "/home/runner/work/seagliderOG1/seagliderOG1/seagliderOG1/tools.py:359: FutureWarning: The return type of `Dataset.dims` will be changed to return a set of dimension names in future, in order to be more consistent with `DataArray.dims`. To access a mapping from dimension names to lengths, please use `Dataset.sizes`.\n",
      "  return ds.assign(divenum=('N_MEASUREMENTS', [dive_number] * ds.dims['N_MEASUREMENTS']))\n",
      "/home/runner/work/seagliderOG1/seagliderOG1/seagliderOG1/tools.py:178: FutureWarning: The return type of `Dataset.dims` will be changed to return a set of dimension names in future, in order to be more consistent with `DataArray.dims`. To access a mapping from dimension names to lengths, please use `Dataset.sizes`.\n",
      "  ds['dive_num_cast'] = (['N_MEASUREMENTS'], np.full(ds.dims['N_MEASUREMENTS'], np.nan))\n",
      "/home/runner/work/seagliderOG1/seagliderOG1/seagliderOG1/tools.py:239: FutureWarning: The return type of `Dataset.dims` will be changed to return a set of dimension names in future, in order to be more consistent with `DataArray.dims`. To access a mapping from dimension names to lengths, please use `Dataset.sizes`.\n",
      "  ds['PHASE'] = (['N_MEASUREMENTS'], np.full(ds.dims['N_MEASUREMENTS'], np.nan))\n",
      "/home/runner/work/seagliderOG1/seagliderOG1/seagliderOG1/tools.py:241: FutureWarning: The return type of `Dataset.dims` will be changed to return a set of dimension names in future, in order to be more consistent with `DataArray.dims`. To access a mapping from dimension names to lengths, please use `Dataset.sizes`.\n",
      "  ds['PHASE_QC'] = (['N_MEASUREMENTS'], np.zeros(ds.dims['N_MEASUREMENTS'], dtype=int))\n",
      "/home/runner/work/seagliderOG1/seagliderOG1/seagliderOG1/tools.py:292: FutureWarning: The return type of `Dataset.dims` will be changed to return a set of dimension names in future, in order to be more consistent with `DataArray.dims`. To access a mapping from dimension names to lengths, please use `Dataset.sizes`.\n",
      "  ds['DEPTH_Z'] = (['N_MEASUREMENTS'], np.full(ds.dims['N_MEASUREMENTS'], np.nan))\n"
     ]
    },
    {
     "name": "stdout",
     "output_type": "stream",
     "text": [
      "No conversion information found for cm s-1 to degrees\n",
      "No conversion information found for micromoles/kg to percent\n",
      "wlbb2f\n",
      "Adding sensor: SENSOR_FLUOROMETERS\n",
      "sbe41\n",
      "sbe41\n",
      "SBE t12/c12 calibration 30DEC03\n",
      "30DEC03\n",
      "Unknown\n"
     ]
    },
    {
     "name": "stderr",
     "output_type": "stream",
     "text": [
      "Variable 'vert_speed_gsm' not in OG1 vocabulary.\n"
     ]
    },
    {
     "name": "stderr",
     "output_type": "stream",
     "text": [
      "Variable 'time' not in OG1 vocabulary.\n"
     ]
    },
    {
     "name": "stderr",
     "output_type": "stream",
     "text": [
      "Variable 'speed_gsm' not in OG1 vocabulary.\n"
     ]
    },
    {
     "name": "stderr",
     "output_type": "stream",
     "text": [
      "Variable 'sound_velocity' not in OG1 vocabulary.\n"
     ]
    },
    {
     "name": "stderr",
     "output_type": "stream",
     "text": [
      "Variable 'north_displacement_gsm' not in OG1 vocabulary.\n"
     ]
    },
    {
     "name": "stderr",
     "output_type": "stream",
     "text": [
      "Variable 'longitude_gsm' not in OG1 vocabulary.\n"
     ]
    },
    {
     "name": "stderr",
     "output_type": "stream",
     "text": [
      "Variable 'latitude_gsm' not in OG1 vocabulary.\n"
     ]
    },
    {
     "name": "stderr",
     "output_type": "stream",
     "text": [
      "Variable 'horz_speed_gsm' not in OG1 vocabulary.\n"
     ]
    },
    {
     "name": "stderr",
     "output_type": "stream",
     "text": [
      "Variable 'glide_angle_gsm' not in OG1 vocabulary.\n"
     ]
    },
    {
     "name": "stderr",
     "output_type": "stream",
     "text": [
      "Variable 'eng_wlbb2f_VFtemp' not in OG1 vocabulary.\n"
     ]
    },
    {
     "name": "stderr",
     "output_type": "stream",
     "text": [
      "Variable 'eng_sbect_tempFreq' not in OG1 vocabulary.\n"
     ]
    },
    {
     "name": "stderr",
     "output_type": "stream",
     "text": [
      "Variable 'eng_sbect_condFreq' not in OG1 vocabulary.\n"
     ]
    },
    {
     "name": "stderr",
     "output_type": "stream",
     "text": [
      "Variable 'eng_elaps_t_0000' not in OG1 vocabulary.\n"
     ]
    },
    {
     "name": "stderr",
     "output_type": "stream",
     "text": [
      "Variable 'eng_elaps_t' not in OG1 vocabulary.\n"
     ]
    },
    {
     "name": "stderr",
     "output_type": "stream",
     "text": [
      "Variable 'eng_depth' not in OG1 vocabulary.\n"
     ]
    },
    {
     "name": "stderr",
     "output_type": "stream",
     "text": [
      "Variable 'east_displacement_gsm' not in OG1 vocabulary.\n"
     ]
    },
    {
     "name": "stderr",
     "output_type": "stream",
     "text": [
      "Variable 'depth' not in OG1 vocabulary.\n"
     ]
    },
    {
     "name": "stderr",
     "output_type": "stream",
     "text": [
      "Variable 'density' not in OG1 vocabulary.\n"
     ]
    },
    {
     "name": "stderr",
     "output_type": "stream",
     "text": [
      "Variable 'buoyancy' not in OG1 vocabulary.\n"
     ]
    },
    {
     "name": "stdout",
     "output_type": "stream",
     "text": [
      "No conversion information found for cm s-1 to degrees\n",
      "No conversion information found for micromoles/kg to percent\n",
      "wlbb2f\n",
      "Adding sensor: SENSOR_FLUOROMETERS\n",
      "sbe41\n",
      "sbe41\n",
      "SBE t12/c12 calibration 30DEC03\n",
      "30DEC03\n",
      "Unknown\n"
     ]
    },
    {
     "name": "stderr",
     "output_type": "stream",
     "text": [
      "/home/runner/work/seagliderOG1/seagliderOG1/seagliderOG1/tools.py:359: FutureWarning: The return type of `Dataset.dims` will be changed to return a set of dimension names in future, in order to be more consistent with `DataArray.dims`. To access a mapping from dimension names to lengths, please use `Dataset.sizes`.\n",
      "  return ds.assign(divenum=('N_MEASUREMENTS', [dive_number] * ds.dims['N_MEASUREMENTS']))\n",
      "/home/runner/work/seagliderOG1/seagliderOG1/seagliderOG1/tools.py:178: FutureWarning: The return type of `Dataset.dims` will be changed to return a set of dimension names in future, in order to be more consistent with `DataArray.dims`. To access a mapping from dimension names to lengths, please use `Dataset.sizes`.\n",
      "  ds['dive_num_cast'] = (['N_MEASUREMENTS'], np.full(ds.dims['N_MEASUREMENTS'], np.nan))\n",
      "/home/runner/work/seagliderOG1/seagliderOG1/seagliderOG1/tools.py:239: FutureWarning: The return type of `Dataset.dims` will be changed to return a set of dimension names in future, in order to be more consistent with `DataArray.dims`. To access a mapping from dimension names to lengths, please use `Dataset.sizes`.\n",
      "  ds['PHASE'] = (['N_MEASUREMENTS'], np.full(ds.dims['N_MEASUREMENTS'], np.nan))\n",
      "/home/runner/work/seagliderOG1/seagliderOG1/seagliderOG1/tools.py:241: FutureWarning: The return type of `Dataset.dims` will be changed to return a set of dimension names in future, in order to be more consistent with `DataArray.dims`. To access a mapping from dimension names to lengths, please use `Dataset.sizes`.\n",
      "  ds['PHASE_QC'] = (['N_MEASUREMENTS'], np.zeros(ds.dims['N_MEASUREMENTS'], dtype=int))\n",
      "/home/runner/work/seagliderOG1/seagliderOG1/seagliderOG1/tools.py:292: FutureWarning: The return type of `Dataset.dims` will be changed to return a set of dimension names in future, in order to be more consistent with `DataArray.dims`. To access a mapping from dimension names to lengths, please use `Dataset.sizes`.\n",
      "  ds['DEPTH_Z'] = (['N_MEASUREMENTS'], np.full(ds.dims['N_MEASUREMENTS'], np.nan))\n"
     ]
    }
   ],
   "source": [
    "# Specify the server where data are located\n",
    "server = \"https://www.ncei.noaa.gov/data/oceans/glider/seaglider/uw/015/20040924/\"\n",
    "\n",
    "# Load and concatenate all datasets from the server, optionally specifying the range of profiles to load\n",
    "list_datasets = readers.read_basestation(server, start_profile=500, end_profile=503)\n",
    "\n",
    "# Convert the list of datasets to OG1\n",
    "ds_OG1 = convertOG1.convert_to_OG1(list_datasets)"
   ]
  },
  {
   "cell_type": "markdown",
   "id": "54baa613",
   "metadata": {},
   "source": [
    "## Saving data\n",
    "\n",
    "Due to problems with writing `xarray` datasets as netCDF when attributes are not of a specified type (`str`, `Number`, `np.ndarray`, `np.number`, `list`, `tuple`), a function was written `save_dataset`."
   ]
  },
  {
   "cell_type": "code",
   "execution_count": 11,
   "id": "3540ad10",
   "metadata": {
    "execution": {
     "iopub.execute_input": "2025-01-27T14:55:02.719784Z",
     "iopub.status.busy": "2025-01-27T14:55:02.719603Z",
     "iopub.status.idle": "2025-01-27T14:55:02.757029Z",
     "shell.execute_reply": "2025-01-27T14:55:02.756497Z"
    }
   },
   "outputs": [
    {
     "name": "stdout",
     "output_type": "stream",
     "text": [
      "TypeError Invalid value for attr 'calibration_parameters': {'t_g': 0.00431040083, 't_h': 0.000631750336, 't_i': 2.27137914e-05, 't_j': 2.20168797e-06, 'c_g': -10.2690994, 'c_h': 1.1547191, 'c_i': -0.00143967206, 'c_j': 0.000204972837, 'cpcor': -9.57e-08, 'ctcor': 3.25e-06}. For serialization to netCDF files, its value must be of one of the following types: str, Number, ndarray, number, list, tuple, bytes\n",
      "variable 'SENSOR_CTD_UNKNOWN': Converting attribute 'calibration_parameters' with value '{'t_g': 0.00431040083, 't_h': 0.000631750336, 't_i': 2.27137914e-05, 't_j': 2.20168797e-06, 'c_g': -10.2690994, 'c_h': 1.1547191, 'c_i': -0.00143967206, 'c_j': 0.000204972837, 'cpcor': -9.57e-08, 'ctcor': 3.25e-06}' to string.\n"
     ]
    }
   ],
   "source": [
    "# Write the file\n",
    "# This writer catches errors in data types (DType errors) when using xr.to_netcdf()\n",
    "# The solution is to convert them to strings, which may be undesired behaviour\n",
    "output_file = os.path.join(data_path, 'demo_test.nc')\n",
    "if os.path.exists(output_file):\n",
    "    os.remove(output_file) \n",
    "\n",
    "writers.save_dataset(ds_OG1, output_file);"
   ]
  },
  {
   "cell_type": "code",
   "execution_count": 12,
   "id": "57da6f9e",
   "metadata": {
    "execution": {
     "iopub.execute_input": "2025-01-27T14:55:02.758620Z",
     "iopub.status.busy": "2025-01-27T14:55:02.758441Z",
     "iopub.status.idle": "2025-01-27T14:55:03.079787Z",
     "shell.execute_reply": "2025-01-27T14:55:03.079275Z"
    }
   },
   "outputs": [
    {
     "data": {
      "image/png": "[encoded data removed]",
      "text/plain": [
       "<Figure size 1000x600 with 2 Axes>"
      ]
     },
     "metadata": {},
     "output_type": "display_data"
    }
   ],
   "source": [
    "# Load the data saved\n",
    "ds1 = xr.open_dataset(output_file)\n",
    "\n",
    "# Generate a simple plot\n",
    "#plotters.show_contents(ds_all,'attrs')\n",
    "plotters.plot_depth_colored(ds1, color_by='PROFILE_NUMBER')\n"
   ]
  },
  {
   "cell_type": "markdown",
   "id": "7eaed738",
   "metadata": {},
   "source": [
    "## Run multiple missions"
   ]
  },
  {
   "cell_type": "code",
   "execution_count": 13,
   "id": "12f47f0f",
   "metadata": {
    "execution": {
     "iopub.execute_input": "2025-01-27T14:55:03.081371Z",
     "iopub.status.busy": "2025-01-27T14:55:03.081214Z",
     "iopub.status.idle": "2025-01-27T14:55:03.083862Z",
     "shell.execute_reply": "2025-01-27T14:55:03.083494Z"
    }
   },
   "outputs": [
    {
     "name": "stdout",
     "output_type": "stream",
     "text": [
      "{'contributor_name': 'Eleanor Frajka-Williams', 'contributor_email': 'eleanorfrajka@gmail.com', 'contributor_role': 'Data scientist', 'contributor_role_vocabulary': 'http://vocab.nerc.ac.uk/search_nvs/W08', 'contributing_institutions': 'University of Hamburg - Institute of Oceanography', 'contributing_institutions_vocabulary': 'https://edmo.seadatanet.org/report/1156', 'contributing_institutions_role': 'Data scientist', 'contributing_institutions_role_vocabulary': 'http://vocab.nerc.ac.uk/search_nvs/W08'}\n"
     ]
    }
   ],
   "source": [
    "# Add these to existing attributes - update to your details\n",
    "contrib_to_append = vocabularies.contrib_to_append\n",
    "print(contrib_to_append)"
   ]
  },
  {
   "cell_type": "code",
   "execution_count": 14,
   "id": "f6127a51",
   "metadata": {
    "execution": {
     "iopub.execute_input": "2025-01-27T14:55:03.085567Z",
     "iopub.status.busy": "2025-01-27T14:55:03.085113Z",
     "iopub.status.idle": "2025-01-27T14:55:08.158640Z",
     "shell.execute_reply": "2025-01-27T14:55:08.158114Z"
    }
   },
   "outputs": [
    {
     "name": "stderr",
     "output_type": "stream",
     "text": [
      "Downloading file 'p0140001_20040924.nc' from 'https://www.ncei.noaa.gov/data/oceans/glider/seaglider/uw/015/20040924/p0140001_20040924.nc' to '/home/runner/.cache/seagliderOG1'.\n"
     ]
    },
    {
     "ename": "HTTPError",
     "evalue": "404 Client Error: Not Found for url: https://www.ncei.noaa.gov/data/oceans/glider/seaglider/uw/015/20040924/p0140001_20040924.nc",
     "output_type": "error",
     "traceback": [
      "\u001b[0;31m---------------------------------------------------------------------------\u001b[0m",
      "\u001b[0;31mHTTPError\u001b[0m                                 Traceback (most recent call last)",
      "Cell \u001b[0;32mIn[14], line 33\u001b[0m\n\u001b[1;32m      2\u001b[0m input_locations \u001b[38;5;241m=\u001b[39m [\n\u001b[1;32m      3\u001b[0m     \u001b[38;5;66;03m# Either Iceland, Faroes or RAPID/MOCHA\u001b[39;00m\n\u001b[1;32m      4\u001b[0m     \u001b[38;5;66;03m#\"https://www.ncei.noaa.gov/data/oceans/glider/seaglider/uw/005/20090829/\", # done\u001b[39;00m\n\u001b[0;32m   (...)\u001b[0m\n\u001b[1;32m     28\u001b[0m     \u001b[38;5;66;03m#\"https://www.ncei.noaa.gov/data/oceans/glider/seaglider/uw/034/20110128/\",\u001b[39;00m\n\u001b[1;32m     29\u001b[0m ]\n\u001b[1;32m     31\u001b[0m \u001b[38;5;28;01mfor\u001b[39;00m input_loc \u001b[38;5;129;01min\u001b[39;00m input_locations:\n\u001b[1;32m     32\u001b[0m     \u001b[38;5;66;03m# Example usage\u001b[39;00m\n\u001b[0;32m---> 33\u001b[0m     ds_all \u001b[38;5;241m=\u001b[39m \u001b[43mconvertOG1\u001b[49m\u001b[38;5;241;43m.\u001b[39;49m\u001b[43mprocess_and_save_data\u001b[49m\u001b[43m(\u001b[49m\u001b[43minput_loc\u001b[49m\u001b[43m,\u001b[49m\u001b[43m \u001b[49m\u001b[43moutput_dir\u001b[49m\u001b[38;5;241;43m=\u001b[39;49m\u001b[43mdata_path\u001b[49m\u001b[43m,\u001b[49m\u001b[43m \u001b[49m\u001b[43msave\u001b[49m\u001b[38;5;241;43m=\u001b[39;49m\u001b[38;5;28;43;01mTrue\u001b[39;49;00m\u001b[43m,\u001b[49m\u001b[43m  \u001b[49m\u001b[43mrun_quietly\u001b[49m\u001b[38;5;241;43m=\u001b[39;49m\u001b[38;5;28;43;01mTrue\u001b[39;49;00m\u001b[43m)\u001b[49m\n",
      "File \u001b[0;32m~/work/seagliderOG1/seagliderOG1/seagliderOG1/convertOG1.py:608\u001b[0m, in \u001b[0;36mprocess_and_save_data\u001b[0;34m(input_location, save, output_dir, run_quietly)\u001b[0m\n\u001b[1;32m    592\u001b[0m \u001b[38;5;250m\u001b[39m\u001b[38;5;124;03m\"\"\"\u001b[39;00m\n\u001b[1;32m    593\u001b[0m \u001b[38;5;124;03mProcesses and saves data from the specified input location.\u001b[39;00m\n\u001b[1;32m    594\u001b[0m \u001b[38;5;124;03mThis function loads and concatenates datasets from the server, converts them to OG1 format,\u001b[39;00m\n\u001b[0;32m   (...)\u001b[0m\n\u001b[1;32m    604\u001b[0m \u001b[38;5;124;03mxarray.Dataset: The processed dataset.\u001b[39;00m\n\u001b[1;32m    605\u001b[0m \u001b[38;5;124;03m\"\"\"\u001b[39;00m\n\u001b[1;32m    607\u001b[0m \u001b[38;5;66;03m# Load and concatenate all datasets from the server\u001b[39;00m\n\u001b[0;32m--> 608\u001b[0m list_datasets \u001b[38;5;241m=\u001b[39m \u001b[43mreaders\u001b[49m\u001b[38;5;241;43m.\u001b[39;49m\u001b[43mread_basestation\u001b[49m\u001b[43m(\u001b[49m\u001b[43minput_location\u001b[49m\u001b[43m)\u001b[49m\n\u001b[1;32m    610\u001b[0m \u001b[38;5;66;03m# Convert the list of datasets to OG1\u001b[39;00m\n\u001b[1;32m    611\u001b[0m ds1 \u001b[38;5;241m=\u001b[39m convert_to_OG1(list_datasets[\u001b[38;5;241m-\u001b[39m\u001b[38;5;241m1\u001b[39m])\n",
      "File \u001b[0;32m~/work/seagliderOG1/seagliderOG1/seagliderOG1/readers.py:109\u001b[0m, in \u001b[0;36mread_basestation\u001b[0;34m(source, start_profile, end_profile)\u001b[0m\n\u001b[1;32m    107\u001b[0m \u001b[38;5;28;01mfor\u001b[39;00m file \u001b[38;5;129;01min\u001b[39;00m filtered_files:\n\u001b[1;32m    108\u001b[0m     \u001b[38;5;28;01mif\u001b[39;00m source\u001b[38;5;241m.\u001b[39mstartswith(\u001b[38;5;124m\"\u001b[39m\u001b[38;5;124mhttp://\u001b[39m\u001b[38;5;124m\"\u001b[39m) \u001b[38;5;129;01mor\u001b[39;00m source\u001b[38;5;241m.\u001b[39mstartswith(\u001b[38;5;124m\"\u001b[39m\u001b[38;5;124mhttps://\u001b[39m\u001b[38;5;124m\"\u001b[39m):\n\u001b[0;32m--> 109\u001b[0m         ds \u001b[38;5;241m=\u001b[39m \u001b[43mload_sample_dataset\u001b[49m\u001b[43m(\u001b[49m\u001b[43mfile\u001b[49m\u001b[43m)\u001b[49m\n\u001b[1;32m    110\u001b[0m     \u001b[38;5;28;01melse\u001b[39;00m:\n\u001b[1;32m    111\u001b[0m         ds \u001b[38;5;241m=\u001b[39m xr\u001b[38;5;241m.\u001b[39mopen_dataset(os\u001b[38;5;241m.\u001b[39mpath\u001b[38;5;241m.\u001b[39mjoin(source, file))\n",
      "File \u001b[0;32m~/work/seagliderOG1/seagliderOG1/seagliderOG1/readers.py:37\u001b[0m, in \u001b[0;36mload_sample_dataset\u001b[0;34m(dataset_name)\u001b[0m\n\u001b[1;32m     35\u001b[0m \u001b[38;5;28;01mdef\u001b[39;00m\u001b[38;5;250m \u001b[39m\u001b[38;5;21mload_sample_dataset\u001b[39m(dataset_name\u001b[38;5;241m=\u001b[39m\u001b[38;5;124m\"\u001b[39m\u001b[38;5;124mp0040034_20031007.nc\u001b[39m\u001b[38;5;124m\"\u001b[39m):\n\u001b[1;32m     36\u001b[0m     \u001b[38;5;28;01mif\u001b[39;00m dataset_name \u001b[38;5;129;01min\u001b[39;00m data_source_og\u001b[38;5;241m.\u001b[39mregistry\u001b[38;5;241m.\u001b[39mkeys():\n\u001b[0;32m---> 37\u001b[0m         file_path \u001b[38;5;241m=\u001b[39m \u001b[43mdata_source_og\u001b[49m\u001b[38;5;241;43m.\u001b[39;49m\u001b[43mfetch\u001b[49m\u001b[43m(\u001b[49m\u001b[43mdataset_name\u001b[49m\u001b[43m)\u001b[49m\n\u001b[1;32m     38\u001b[0m         \u001b[38;5;28;01mreturn\u001b[39;00m xr\u001b[38;5;241m.\u001b[39mopen_dataset(file_path)\n\u001b[1;32m     39\u001b[0m     \u001b[38;5;28;01melse\u001b[39;00m:\n",
      "File \u001b[0;32m~/micromamba/envs/TEST/lib/python3.12/site-packages/pooch/core.py:589\u001b[0m, in \u001b[0;36mPooch.fetch\u001b[0;34m(self, fname, processor, downloader, progressbar)\u001b[0m\n\u001b[1;32m    586\u001b[0m     \u001b[38;5;28;01mif\u001b[39;00m downloader \u001b[38;5;129;01mis\u001b[39;00m \u001b[38;5;28;01mNone\u001b[39;00m:\n\u001b[1;32m    587\u001b[0m         downloader \u001b[38;5;241m=\u001b[39m choose_downloader(url, progressbar\u001b[38;5;241m=\u001b[39mprogressbar)\n\u001b[0;32m--> 589\u001b[0m     \u001b[43mstream_download\u001b[49m\u001b[43m(\u001b[49m\n\u001b[1;32m    590\u001b[0m \u001b[43m        \u001b[49m\u001b[43murl\u001b[49m\u001b[43m,\u001b[49m\n\u001b[1;32m    591\u001b[0m \u001b[43m        \u001b[49m\u001b[43mfull_path\u001b[49m\u001b[43m,\u001b[49m\n\u001b[1;32m    592\u001b[0m \u001b[43m        \u001b[49m\u001b[43mknown_hash\u001b[49m\u001b[43m,\u001b[49m\n\u001b[1;32m    593\u001b[0m \u001b[43m        \u001b[49m\u001b[43mdownloader\u001b[49m\u001b[43m,\u001b[49m\n\u001b[1;32m    594\u001b[0m \u001b[43m        \u001b[49m\u001b[43mpooch\u001b[49m\u001b[38;5;241;43m=\u001b[39;49m\u001b[38;5;28;43mself\u001b[39;49m\u001b[43m,\u001b[49m\n\u001b[1;32m    595\u001b[0m \u001b[43m        \u001b[49m\u001b[43mretry_if_failed\u001b[49m\u001b[38;5;241;43m=\u001b[39;49m\u001b[38;5;28;43mself\u001b[39;49m\u001b[38;5;241;43m.\u001b[39;49m\u001b[43mretry_if_failed\u001b[49m\u001b[43m,\u001b[49m\n\u001b[1;32m    596\u001b[0m \u001b[43m    \u001b[49m\u001b[43m)\u001b[49m\n\u001b[1;32m    598\u001b[0m \u001b[38;5;28;01mif\u001b[39;00m processor \u001b[38;5;129;01mis\u001b[39;00m \u001b[38;5;129;01mnot\u001b[39;00m \u001b[38;5;28;01mNone\u001b[39;00m:\n\u001b[1;32m    599\u001b[0m     \u001b[38;5;28;01mreturn\u001b[39;00m processor(\u001b[38;5;28mstr\u001b[39m(full_path), action, \u001b[38;5;28mself\u001b[39m)\n",
      "File \u001b[0;32m~/micromamba/envs/TEST/lib/python3.12/site-packages/pooch/core.py:807\u001b[0m, in \u001b[0;36mstream_download\u001b[0;34m(url, fname, known_hash, downloader, pooch, retry_if_failed)\u001b[0m\n\u001b[1;32m    803\u001b[0m \u001b[38;5;28;01mtry\u001b[39;00m:\n\u001b[1;32m    804\u001b[0m     \u001b[38;5;66;03m# Stream the file to a temporary so that we can safely check its\u001b[39;00m\n\u001b[1;32m    805\u001b[0m     \u001b[38;5;66;03m# hash before overwriting the original.\u001b[39;00m\n\u001b[1;32m    806\u001b[0m     \u001b[38;5;28;01mwith\u001b[39;00m temporary_file(path\u001b[38;5;241m=\u001b[39m\u001b[38;5;28mstr\u001b[39m(fname\u001b[38;5;241m.\u001b[39mparent)) \u001b[38;5;28;01mas\u001b[39;00m tmp:\n\u001b[0;32m--> 807\u001b[0m         \u001b[43mdownloader\u001b[49m\u001b[43m(\u001b[49m\u001b[43murl\u001b[49m\u001b[43m,\u001b[49m\u001b[43m \u001b[49m\u001b[43mtmp\u001b[49m\u001b[43m,\u001b[49m\u001b[43m \u001b[49m\u001b[43mpooch\u001b[49m\u001b[43m)\u001b[49m\n\u001b[1;32m    808\u001b[0m         hash_matches(tmp, known_hash, strict\u001b[38;5;241m=\u001b[39m\u001b[38;5;28;01mTrue\u001b[39;00m, source\u001b[38;5;241m=\u001b[39m\u001b[38;5;28mstr\u001b[39m(fname\u001b[38;5;241m.\u001b[39mname))\n\u001b[1;32m    809\u001b[0m         shutil\u001b[38;5;241m.\u001b[39mmove(tmp, \u001b[38;5;28mstr\u001b[39m(fname))\n",
      "File \u001b[0;32m~/micromamba/envs/TEST/lib/python3.12/site-packages/pooch/downloaders.py:221\u001b[0m, in \u001b[0;36mHTTPDownloader.__call__\u001b[0;34m(self, url, output_file, pooch, check_only)\u001b[0m\n\u001b[1;32m    219\u001b[0m \u001b[38;5;28;01mtry\u001b[39;00m:\n\u001b[1;32m    220\u001b[0m     response \u001b[38;5;241m=\u001b[39m requests\u001b[38;5;241m.\u001b[39mget(url, timeout\u001b[38;5;241m=\u001b[39mtimeout, \u001b[38;5;241m*\u001b[39m\u001b[38;5;241m*\u001b[39mkwargs)\n\u001b[0;32m--> 221\u001b[0m     \u001b[43mresponse\u001b[49m\u001b[38;5;241;43m.\u001b[39;49m\u001b[43mraise_for_status\u001b[49m\u001b[43m(\u001b[49m\u001b[43m)\u001b[49m\n\u001b[1;32m    222\u001b[0m     content \u001b[38;5;241m=\u001b[39m response\u001b[38;5;241m.\u001b[39miter_content(chunk_size\u001b[38;5;241m=\u001b[39m\u001b[38;5;28mself\u001b[39m\u001b[38;5;241m.\u001b[39mchunk_size)\n\u001b[1;32m    223\u001b[0m     total \u001b[38;5;241m=\u001b[39m \u001b[38;5;28mint\u001b[39m(response\u001b[38;5;241m.\u001b[39mheaders\u001b[38;5;241m.\u001b[39mget(\u001b[38;5;124m\"\u001b[39m\u001b[38;5;124mcontent-length\u001b[39m\u001b[38;5;124m\"\u001b[39m, \u001b[38;5;241m0\u001b[39m))\n",
      "File \u001b[0;32m~/micromamba/envs/TEST/lib/python3.12/site-packages/requests/models.py:1024\u001b[0m, in \u001b[0;36mResponse.raise_for_status\u001b[0;34m(self)\u001b[0m\n\u001b[1;32m   1019\u001b[0m     http_error_msg \u001b[38;5;241m=\u001b[39m (\n\u001b[1;32m   1020\u001b[0m         \u001b[38;5;124mf\u001b[39m\u001b[38;5;124m\"\u001b[39m\u001b[38;5;132;01m{\u001b[39;00m\u001b[38;5;28mself\u001b[39m\u001b[38;5;241m.\u001b[39mstatus_code\u001b[38;5;132;01m}\u001b[39;00m\u001b[38;5;124m Server Error: \u001b[39m\u001b[38;5;132;01m{\u001b[39;00mreason\u001b[38;5;132;01m}\u001b[39;00m\u001b[38;5;124m for url: \u001b[39m\u001b[38;5;132;01m{\u001b[39;00m\u001b[38;5;28mself\u001b[39m\u001b[38;5;241m.\u001b[39murl\u001b[38;5;132;01m}\u001b[39;00m\u001b[38;5;124m\"\u001b[39m\n\u001b[1;32m   1021\u001b[0m     )\n\u001b[1;32m   1023\u001b[0m \u001b[38;5;28;01mif\u001b[39;00m http_error_msg:\n\u001b[0;32m-> 1024\u001b[0m     \u001b[38;5;28;01mraise\u001b[39;00m HTTPError(http_error_msg, response\u001b[38;5;241m=\u001b[39m\u001b[38;5;28mself\u001b[39m)\n",
      "\u001b[0;31mHTTPError\u001b[0m: 404 Client Error: Not Found for url: https://www.ncei.noaa.gov/data/oceans/glider/seaglider/uw/015/20040924/p0140001_20040924.nc"
     ]
    }
   ],
   "source": [
    "# Specify a list of servers or local directories\n",
    "input_locations = [\n",
    "    # Either Iceland, Faroes or RAPID/MOCHA\n",
    "    #\"https://www.ncei.noaa.gov/data/oceans/glider/seaglider/uw/005/20090829/\", # done\n",
    "    #\"https://www.ncei.noaa.gov/data/oceans/glider/seaglider/uw/005/20080606/\", # done\n",
    "    #\"https://www.ncei.noaa.gov/data/oceans/glider/seaglider/uw/005/20081106/\", # done\n",
    "    #\"https://www.ncei.noaa.gov/data/oceans/glider/seaglider/uw/012/20070831/\", # done\n",
    "    #\"https://www.ncei.noaa.gov/data/oceans/glider/seaglider/uw/014/20080214/\",  # done\n",
    "    #\"https://www.ncei.noaa.gov/data/oceans/glider/seaglider/uw/014/20080222/\", # done\n",
    "    #\"https://www.ncei.noaa.gov/data/oceans/glider/seaglider/uw/016/20061112/\",  # done\n",
    "    #\"https://www.ncei.noaa.gov/data/oceans/glider/seaglider/uw/016/20090605/\", # done\n",
    "    #\"https://www.ncei.noaa.gov/data/oceans/glider/seaglider/uw/016/20071113/\", # done\n",
    "    #\"https://www.ncei.noaa.gov/data/oceans/glider/seaglider/uw/016/20080607/\",  # done\n",
    "    #\"https://www.ncei.noaa.gov/data/oceans/glider/seaglider/uw/033/20100518/\", # done  \n",
    "    #\"https://www.ncei.noaa.gov/data/oceans/glider/seaglider/uw/033/20100903/\", # done\n",
    "    #\"https://www.ncei.noaa.gov/data/oceans/glider/seaglider/uw/101/20081108/\",     # done\n",
    "    #\"https://www.ncei.noaa.gov/data/oceans/glider/seaglider/uw/101/20061112/\",    # done\n",
    "    #\"https://www.ncei.noaa.gov/data/oceans/glider/seaglider/uw/101/20070609/\",   # done\n",
    "    #\"https://www.ncei.noaa.gov/data/oceans/glider/seaglider/uw/102/20061112/\",  # done\n",
    "    # Labrador Sea\n",
    "    #\"https://www.ncei.noaa.gov/data/oceans/glider/seaglider/uw/015/20040924/\",\n",
    "    \"https://www.ncei.noaa.gov/data/oceans/glider/seaglider/uw/014/20040924/\",\n",
    "    #\"https://www.ncei.noaa.gov/data/oceans/glider/seaglider/uw/008/20031002/\",\n",
    "    #\"https://www.ncei.noaa.gov/data/oceans/glider/seaglider/uw/004/20031002/\",\n",
    "    #\"https://www.ncei.noaa.gov/data/oceans/glider/seaglider/uw/016/20050406/\",\n",
    "    # RAPID/MOCHA\n",
    "    #\"https://www.ncei.noaa.gov/data/oceans/glider/seaglider/uw/033/20100729/\",\n",
    "    #\"https://www.ncei.noaa.gov/data/oceans/glider/seaglider/uw/034/20110128/\",\n",
    "]\n",
    "\n",
    "for input_loc in input_locations:\n",
    "    # Example usage\n",
    "    ds_all = convertOG1.process_and_save_data(input_loc, output_dir=data_path, save=True,  run_quietly=True)"
   ]
  },
  {
   "cell_type": "code",
   "execution_count": null,
   "id": "4fefe79f",
   "metadata": {},
   "outputs": [],
   "source": []
  }
 ],
 "metadata": {
  "kernelspec": {
   "display_name": "Python 3",
   "language": "python",
   "name": "python3"
  },
  "language_info": {
   "codemirror_mode": {
    "name": "ipython",
    "version": 3
   },
   "file_extension": ".py",
   "mimetype": "text/x-python",
   "name": "python",
   "nbconvert_exporter": "python",
   "pygments_lexer": "ipython3",
   "version": "3.12.8"
  }
 },
 "nbformat": 4,
 "nbformat_minor": 5
}
